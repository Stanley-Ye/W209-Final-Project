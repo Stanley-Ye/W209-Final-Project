{
 "cells": [
  {
   "cell_type": "code",
   "execution_count": 1,
   "metadata": {},
   "outputs": [],
   "source": [
    "# Load libraries\n",
    "import pandas as pd\n",
    "import datetime as dt"
   ]
  },
  {
   "cell_type": "code",
   "execution_count": 2,
   "metadata": {},
   "outputs": [],
   "source": [
    "# Load files: dividends_latest.csv, earnings_latest.csv\n",
    "dividends_data = pd.read_csv(\"data/kaggle/dividends_latest.csv\") \n",
    "earnings_data  = pd.read_csv(\"data/kaggle/earnings_latest.csv\") "
   ]
  },
  {
   "cell_type": "code",
   "execution_count": 20,
   "metadata": {},
   "outputs": [],
   "source": [
    "# Function to generate csv for given dataframe.\n",
    "def df_to_csv(df, dividends_df, earnings_df, csv):\n",
    "\n",
    "    # Join files: dividends and earnings\n",
    "    result = df.copy()\n",
    "\n",
    "    # Join with dividends\n",
    "    result = pd.merge(result,\n",
    "                     dividends_df[['date', 'dividend']],\n",
    "                     on='date', how='left')\n",
    "\n",
    "    result['ex_dividend_date'] = (result['dividend'] >= 0)\n",
    "\n",
    "    # Join with earnings\n",
    "    result = pd.merge(result,\n",
    "                     earnings_df[['date','qtr','eps_est','eps','release_time']],\n",
    "                     on='date', how='left')\n",
    "    result['earnings_date'] = (result['qtr'].notna())\n",
    "    result = result.drop(columns=['qtr','release_time'])\n",
    "    \n",
    "    # Create new columns\n",
    "    result['Next Open']  = result['open'].shift(1)\n",
    "    result['Next Close'] = result['close'].shift(1)\n",
    "    result['Prev Open']  = result['open'].shift(-1)\n",
    "    result['Prev Close'] = result['close'].shift(-1)\n",
    "\n",
    "    # Create column: Quarter\n",
    "    def date_to_quarter(date):\n",
    "        year,month,day = date.split('-')\n",
    "        return pd.Timestamp(dt.date(int(year),int(month),int(day))).quarter\n",
    "\n",
    "    result['Quarter'] = result['date'].apply(lambda x: date_to_quarter(x))\n",
    "    \n",
    "    # Save to csv\n",
    "    result.to_csv(csv)"
   ]
  },
  {
   "cell_type": "code",
   "execution_count": 26,
   "metadata": {},
   "outputs": [],
   "source": [
    "# Function to merge all datasets and save to csv.\n",
    "# Output:\n",
    "# - data/<STOCK>_full.csv\n",
    "# - data/<STOCK>_2014_to_2019.csv\n",
    "def merge_and_save(symbol, price_file):\n",
    "   \n",
    "    # Set output file names\n",
    "    out_five = \"data/\" + symbol.lower() + \"_2014_to_2019.csv\"\n",
    "    out_full = \"data/\" + symbol.lower() + \"_full.csv\"\n",
    "    \n",
    "    # Get dividends/earnings for stock.\n",
    "    dividends = dividends_data.loc[dividends_data['symbol'] == symbol.upper()]\n",
    "    earnings  = earnings_data.loc[earnings_data['symbol'] == symbol.upper()]\n",
    "    \n",
    "    # Get price data.\n",
    "    price_data = pd.read_csv(price_file) \n",
    "    price_data_2014_to_2019 = price_data.loc[price_data['date'] > \"2014-08-09\"]\n",
    "\n",
    "    # Create 5-year csv.\n",
    "    df_to_csv(price_data_2014_to_2019, dividends, earnings, out_five)\n",
    "\n",
    "    # Create full csv.\n",
    "    df_to_csv(price_data, dividends, earnings, out_full)"
   ]
  },
  {
   "cell_type": "code",
   "execution_count": 27,
   "metadata": {},
   "outputs": [],
   "source": [
    "merge_and_save(\"intc\", \"data/kaggle/intc.csv\")"
   ]
  },
  {
   "cell_type": "code",
   "execution_count": 28,
   "metadata": {},
   "outputs": [],
   "source": [
    "names = (\"amd\",\"asml\",\"mu\",\"nvda\",\"tsm\",\"txn\")\n",
    "for name in names:\n",
    "    merge_and_save(name, \"data/kaggle/\"+ name + \".csv\")"
   ]
  },
  {
   "cell_type": "code",
   "execution_count": null,
   "metadata": {},
   "outputs": [],
   "source": []
  }
 ],
 "metadata": {
  "kernelspec": {
   "display_name": "Python 3",
   "language": "python",
   "name": "python3"
  },
  "language_info": {
   "codemirror_mode": {
    "name": "ipython",
    "version": 3
   },
   "file_extension": ".py",
   "mimetype": "text/x-python",
   "name": "python",
   "nbconvert_exporter": "python",
   "pygments_lexer": "ipython3",
   "version": "3.6.8"
  }
 },
 "nbformat": 4,
 "nbformat_minor": 2
}
